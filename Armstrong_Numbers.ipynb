{
 "cells": [
  {
   "cell_type": "markdown",
   "id": "87460679",
   "metadata": {},
   "source": [
    "Find out if a given number is an \"Armstrong Number\".\n",
    "\n",
    "An n-digit number that is the sum of the nth powers of its digits is called an n-Armstrong number. Examples :\n",
    "\n",
    "371 = 3^3 + 7^3 + 1^3;\n",
    "9474 = 9^4 + 4^4 + 7^4 + 4^4;\n",
    "93084 = 9^5 + 3^5 + 0^5 + 8^5 + 4^5.\n",
    "\n",
    "Write a Python program that;\n",
    "    *takes a positive integer number from the user,\n",
    "    *checks the entered number if it is Armstrong,\n",
    "    *consider the negative, float and any entries other than numeric values then display a warning message to the user.\n"
   ]
  },
  {
   "cell_type": "code",
   "execution_count": null,
   "id": "c1372596",
   "metadata": {
    "scrolled": true
   },
   "outputs": [],
   "source": [
    "num = input(\"Enter a number please  :\").strip()\n",
    "sum = 0\n",
    "if num.isdigit() :\n",
    "\n",
    "    for i in num:\n",
    "        sum += int(i)** len(num)\n",
    "    print(sum)\n",
    "    if sum == int(num):\n",
    "        print(f\"{num} is an Armstrong number.\")\n",
    "        \n",
    "    elif sum != int(num):\n",
    "        print(f\"{num} is not an Armstrong number.\")\n",
    "else:\n",
    "    print(\"It is an invalid entry. Don't use non-numeric, float, or negative values!\")"
   ]
  }
 ],
 "metadata": {
  "kernelspec": {
   "display_name": "Python 3",
   "language": "python",
   "name": "python3"
  },
  "language_info": {
   "codemirror_mode": {
    "name": "ipython",
    "version": 3
   },
   "file_extension": ".py",
   "mimetype": "text/x-python",
   "name": "python",
   "nbconvert_exporter": "python",
   "pygments_lexer": "ipython3",
   "version": "3.8.8"
  }
 },
 "nbformat": 4,
 "nbformat_minor": 5
}
