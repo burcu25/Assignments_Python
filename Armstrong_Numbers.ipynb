{
 "cells": [
  {
   "cell_type": "code",
   "execution_count": 7,
   "id": "c1372596",
   "metadata": {},
   "outputs": [
    {
     "name": "stdout",
     "output_type": "stream",
     "text": [
      "Enter a number please  :8\n",
      "8\n",
      "8 is an Armstrong number.\n"
     ]
    }
   ],
   "source": [
    "num = input(\"Enter a number please  :\").strip()\n",
    "sum = 0\n",
    "if num.isdigit() :\n",
    "\n",
    "    for i in num:\n",
    "        sum += int(i)** len(num)\n",
    "    print(sum)\n",
    "    if sum == int(num):\n",
    "        print(f\"{num} is an Armstrong number.\")\n",
    "        \n",
    "    elif sum != int(num):\n",
    "        print(f\"{num} is not an Armstrong number.\")\n",
    "else:\n",
    "    print(\"It is an invalid entry. Don't use non-numeric, float, or negative values!\")"
   ]
  },
  {
   "cell_type": "code",
   "execution_count": null,
   "id": "0c3f6a56",
   "metadata": {},
   "outputs": [],
   "source": []
  }
 ],
 "metadata": {
  "kernelspec": {
   "display_name": "Python 3",
   "language": "python",
   "name": "python3"
  },
  "language_info": {
   "codemirror_mode": {
    "name": "ipython",
    "version": 3
   },
   "file_extension": ".py",
   "mimetype": "text/x-python",
   "name": "python",
   "nbconvert_exporter": "python",
   "pygments_lexer": "ipython3",
   "version": "3.8.8"
  }
 },
 "nbformat": 4,
 "nbformat_minor": 5
}
