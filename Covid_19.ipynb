{
 "cells": [
  {
   "cell_type": "code",
   "execution_count": 13,
   "id": "0b2edde7",
   "metadata": {},
   "outputs": [
    {
     "name": "stdout",
     "output_type": "stream",
     "text": [
      "Please answer the questions 'Yes' or 'No' \n",
      "Are you a cigarette addict older than 75 years old?   no\n",
      "Do you have a severe chronic disease?   no\n",
      "Is your immune system too weak?   no\n",
      "You are not in risky group\n"
     ]
    }
   ],
   "source": [
    "\n",
    "print(\"Please answer the questions 'Yes' or 'No' \")\n",
    "\n",
    "age = input(\"Are you a cigarette addict older than 75 years old?   \").title().strip() == 'Yes'\n",
    "chronic = input(\"Do you have a severe chronic disease?   \").title().strip() == 'Yes'\n",
    "immune = input(\"Is your immune system too weak?   \").title().strip() == 'Yes'\n",
    "\n",
    "\n",
    "risk = age or chronic or immune\n",
    "if risk:\n",
    "    print(\"You are in risky group\")\n",
    "else:\n",
    "    print(\"You are not in risky group\")"
   ]
  },
  {
   "cell_type": "code",
   "execution_count": null,
   "id": "9d192e12",
   "metadata": {},
   "outputs": [],
   "source": []
  },
  {
   "cell_type": "code",
   "execution_count": null,
   "id": "0b2a7e50",
   "metadata": {},
   "outputs": [],
   "source": []
  },
  {
   "cell_type": "code",
   "execution_count": null,
   "id": "2a7346b2",
   "metadata": {},
   "outputs": [],
   "source": []
  },
  {
   "cell_type": "code",
   "execution_count": null,
   "id": "7e5b8f01",
   "metadata": {},
   "outputs": [],
   "source": []
  },
  {
   "cell_type": "code",
   "execution_count": null,
   "id": "5520d542",
   "metadata": {},
   "outputs": [],
   "source": []
  },
  {
   "cell_type": "code",
   "execution_count": null,
   "id": "f73f27ae",
   "metadata": {},
   "outputs": [],
   "source": []
  }
 ],
 "metadata": {
  "kernelspec": {
   "display_name": "Python 3",
   "language": "python",
   "name": "python3"
  },
  "language_info": {
   "codemirror_mode": {
    "name": "ipython",
    "version": 3
   },
   "file_extension": ".py",
   "mimetype": "text/x-python",
   "name": "python",
   "nbconvert_exporter": "python",
   "pygments_lexer": "ipython3",
   "version": "3.8.8"
  }
 },
 "nbformat": 4,
 "nbformat_minor": 5
}
