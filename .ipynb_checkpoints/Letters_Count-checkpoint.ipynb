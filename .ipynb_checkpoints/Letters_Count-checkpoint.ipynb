{
 "cells": [
  {
   "cell_type": "code",
   "execution_count": 2,
   "id": "041a84d0",
   "metadata": {},
   "outputs": [],
   "source": [
    "def letters_count(s) :\n",
    "    return {i:s.count(i) for i in s}"
   ]
  },
  {
   "cell_type": "code",
   "execution_count": 3,
   "id": "4bc7a9e6",
   "metadata": {},
   "outputs": [
    {
     "data": {
      "text/plain": [
       "{'h': 1,\n",
       " 'i': 1,\n",
       " 'p': 2,\n",
       " 'o': 2,\n",
       " ' ': 3,\n",
       " 'r': 1,\n",
       " 'u': 2,\n",
       " 'n': 1,\n",
       " 's': 2,\n",
       " 't': 1,\n",
       " '!': 1}"
      ]
     },
     "execution_count": 3,
     "metadata": {},
     "output_type": "execute_result"
    }
   ],
   "source": [
    "letters_count(\"hippo runs to us!\")"
   ]
  },
  {
   "cell_type": "code",
   "execution_count": null,
   "id": "5311cbaf",
   "metadata": {},
   "outputs": [],
   "source": []
  }
 ],
 "metadata": {
  "kernelspec": {
   "display_name": "Python 3",
   "language": "python",
   "name": "python3"
  },
  "language_info": {
   "codemirror_mode": {
    "name": "ipython",
    "version": 3
   },
   "file_extension": ".py",
   "mimetype": "text/x-python",
   "name": "python",
   "nbconvert_exporter": "python",
   "pygments_lexer": "ipython3",
   "version": "3.8.8"
  }
 },
 "nbformat": 4,
 "nbformat_minor": 5
}
