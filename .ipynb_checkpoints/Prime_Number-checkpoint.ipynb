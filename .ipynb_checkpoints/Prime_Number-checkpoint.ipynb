{
 "cells": [
  {
   "cell_type": "markdown",
   "id": "ffdc83ee",
   "metadata": {},
   "source": [
    "####   Write a program that takes a number from the user and prints the result to check if it is a prime number."
   ]
  },
  {
   "cell_type": "code",
   "execution_count": null,
   "id": "17c5d38c",
   "metadata": {},
   "outputs": [],
   "source": [
    "num = int(input(\"Enter a number please  : \").strip())\n",
    "\n",
    "dev = [num % i for i in range(1, (num + 1)) if num % i == 0]\n",
    "\n",
    "if len(dev) == 2 :\n",
    "    print(f\"{num} is a prime number.\")\n",
    "else:\n",
    "    print(f\"{num} is not a prime number.\")"
   ]
  },
  {
   "cell_type": "code",
   "execution_count": null,
   "id": "a9ceed75",
   "metadata": {},
   "outputs": [],
   "source": []
  },
  {
   "cell_type": "code",
   "execution_count": null,
   "id": "8f364b3b",
   "metadata": {},
   "outputs": [],
   "source": []
  },
  {
   "cell_type": "code",
   "execution_count": null,
   "id": "f59d383a",
   "metadata": {},
   "outputs": [],
   "source": []
  },
  {
   "cell_type": "code",
   "execution_count": null,
   "id": "b4bd385f",
   "metadata": {},
   "outputs": [],
   "source": []
  }
 ],
 "metadata": {
  "kernelspec": {
   "display_name": "Python 3",
   "language": "python",
   "name": "python3"
  },
  "language_info": {
   "codemirror_mode": {
    "name": "ipython",
    "version": 3
   },
   "file_extension": ".py",
   "mimetype": "text/x-python",
   "name": "python",
   "nbconvert_exporter": "python",
   "pygments_lexer": "ipython3",
   "version": "3.8.8"
  }
 },
 "nbformat": 4,
 "nbformat_minor": 5
}
