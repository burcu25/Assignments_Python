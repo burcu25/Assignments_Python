{
 "cells": [
  {
   "cell_type": "code",
   "execution_count": 9,
   "id": "c600ab4b",
   "metadata": {},
   "outputs": [],
   "source": [
    "def prime_list(n):\n",
    "    primes = []\n",
    "    for x in range(n):\n",
    "        dev = [x % y for y in range(1, (x + 1)) if x % y == 0]\n",
    "        if len(dev) == 2:\n",
    "            primes.append(x)\n",
    "    print(primes, end=\"\")"
   ]
  },
  {
   "cell_type": "code",
   "execution_count": 6,
   "id": "19e50336",
   "metadata": {},
   "outputs": [
    {
     "name": "stdout",
     "output_type": "stream",
     "text": [
      "[2, 3, 5, 7, 11, 13, 17, 19, 23, 29, 31, 37, 41, 43, 47, 53, 59, 61, 67, 71, 73, 79, 83, 89, 97]"
     ]
    }
   ],
   "source": [
    "prime_list(100)"
   ]
  },
  {
   "cell_type": "code",
   "execution_count": null,
   "id": "98abefbc",
   "metadata": {},
   "outputs": [],
   "source": []
  }
 ],
 "metadata": {
  "kernelspec": {
   "display_name": "Python 3",
   "language": "python",
   "name": "python3"
  },
  "language_info": {
   "codemirror_mode": {
    "name": "ipython",
    "version": 3
   },
   "file_extension": ".py",
   "mimetype": "text/x-python",
   "name": "python",
   "nbconvert_exporter": "python",
   "pygments_lexer": "ipython3",
   "version": "3.8.8"
  }
 },
 "nbformat": 4,
 "nbformat_minor": 5
}
