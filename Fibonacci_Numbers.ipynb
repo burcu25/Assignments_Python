{
 "cells": [
  {
   "cell_type": "code",
   "execution_count": 28,
   "id": "314b48db",
   "metadata": {},
   "outputs": [
    {
     "name": "stdout",
     "output_type": "stream",
     "text": [
      "[1, 1, 2, 3, 5, 8, 13, 21, 34, 55]\n"
     ]
    }
   ],
   "source": [
    "fibo = [1,1]\n",
    "i = 0\n",
    "while fibo[-1] < 55 :\n",
    "    numbers = fibo[i] + fibo[i+1]\n",
    "    i += 1\n",
    "    fibo.append(numbers)\n",
    "print(fibo)"
   ]
  },
  {
   "cell_type": "code",
   "execution_count": 29,
   "id": "8bd61ee0",
   "metadata": {},
   "outputs": [],
   "source": [
    "def fibonacci(a):\n",
    "    fibo = [1,1]\n",
    "    i=0\n",
    "    while fibo[-1] < a :\n",
    "        numbers = fibo[i] + fibo[i+1]\n",
    "        i += 1\n",
    "        fibo.append(numbers)\n",
    "    return fibo\n"
   ]
  },
  {
   "cell_type": "code",
   "execution_count": 30,
   "id": "1de9ced0",
   "metadata": {},
   "outputs": [
    {
     "data": {
      "text/plain": [
       "[1, 1, 2, 3, 5, 8, 13, 21, 34, 55]"
      ]
     },
     "execution_count": 30,
     "metadata": {},
     "output_type": "execute_result"
    }
   ],
   "source": [
    "fibonacci(55)"
   ]
  },
  {
   "cell_type": "code",
   "execution_count": null,
   "id": "e8e3ca2d",
   "metadata": {},
   "outputs": [],
   "source": []
  }
 ],
 "metadata": {
  "kernelspec": {
   "display_name": "Python 3",
   "language": "python",
   "name": "python3"
  },
  "language_info": {
   "codemirror_mode": {
    "name": "ipython",
    "version": 3
   },
   "file_extension": ".py",
   "mimetype": "text/x-python",
   "name": "python",
   "nbconvert_exporter": "python",
   "pygments_lexer": "ipython3",
   "version": "3.8.8"
  }
 },
 "nbformat": 4,
 "nbformat_minor": 5
}
